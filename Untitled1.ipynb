{
 "cells": [
  {
   "cell_type": "code",
   "execution_count": 1,
   "id": "4953e7fc-767a-4c2f-976c-54108cb63634",
   "metadata": {},
   "outputs": [],
   "source": [
    "import joblib"
   ]
  },
  {
   "cell_type": "code",
   "execution_count": 2,
   "id": "b8cf8387-d522-4608-99cd-3f0226789dde",
   "metadata": {},
   "outputs": [],
   "source": [
    "model = joblib.load(\"monthly_charges_model.pkl\")"
   ]
  },
  {
   "cell_type": "code",
   "execution_count": 6,
   "id": "29552ade-2b4f-4d1d-97e3-95203c447d5a",
   "metadata": {},
   "outputs": [
    {
     "name": "stdout",
     "output_type": "stream",
     "text": [
      "Coefficients (w): [ 9.24602941e-03  5.92210824e-03  5.94968136e-03 -3.19370536e-02\n",
      " -1.40311451e-03  1.50347659e+01 -5.58395564e-03  2.43692812e-02\n",
      "  1.97877310e-02  8.09958151e-03  4.29720129e-02 -1.31568389e-02\n",
      "  4.08845572e-03  7.00120811e-02  7.78953441e-02  5.01177231e+00\n",
      "  1.00229936e+01 -4.26296267e+00  2.06965753e+01  5.69561490e+00\n",
      "  1.07379978e+01  5.71491454e+00  1.07186981e+01  5.70518186e+00\n",
      "  1.07284308e+01  5.69861503e+00  1.07349976e+01  3.22368824e+00\n",
      "  1.32099244e+01  3.24350791e+00  1.31901047e+01  1.41815850e-02]\n",
      "Intercept (b): -0.10455702131011435\n"
     ]
    }
   ],
   "source": [
    "print(\"Coefficients (w):\", model.coef_)    # array of shape (n_features,)\n",
    "print(\"Intercept (b):\", model.intercept_)  # scalar\n",
    "\n",
    "coeffs = model.coef_"
   ]
  },
  {
   "cell_type": "code",
   "execution_count": 5,
   "id": "8c422b63-977a-4d53-8ded-44a276486f59",
   "metadata": {},
   "outputs": [],
   "source": [
    "names = model.feature_names_in_"
   ]
  },
  {
   "cell_type": "code",
   "execution_count": 11,
   "id": "1bca19de-d856-41b3-9f41-c9bbc6b32d7a",
   "metadata": {},
   "outputs": [
    {
     "name": "stdout",
     "output_type": "stream",
     "text": [
      "('gender', np.float64(0.009246029414242874))\n",
      "('SeniorCitizen', np.float64(0.005922108242934598))\n",
      "('Partner', np.float64(0.005949681357487768))\n",
      "('Dependents', np.float64(-0.03193705356081236))\n",
      "('tenure', np.float64(-0.0014031145142904533))\n",
      "('PhoneService', np.float64(15.03476593322112))\n",
      "('PaperlessBilling', np.float64(-0.005583955635387061))\n",
      "('Contract_Month-to-month', np.float64(0.02436928116244253))\n",
      "('Contract_Two year', np.float64(0.019787731020724345))\n",
      "('PaymentMethod_Bank transfer (automatic)', np.float64(0.008099581510582718))\n",
      "('PaymentMethod_Credit card (automatic)', np.float64(0.042972012865769404))\n",
      "('PaymentMethod_Electronic check', np.float64(-0.01315683892014103))\n",
      "('tenure_binned_1', np.float64(0.004088455722696783))\n",
      "('tenure_binned_2', np.float64(0.07001208111193592))\n",
      "('tenure_binned_3', np.float64(0.07789534413509186))\n",
      "('MultipleLines_No', np.float64(5.011772307154525))\n",
      "('MultipleLines_Yes', np.float64(10.022993626066592))\n",
      "('InternetService_DSL', np.float64(-4.262962673045471))\n",
      "('InternetService_Fiber optic', np.float64(20.696575320776446))\n",
      "('OnlineSecurity_No', np.float64(5.695614896076567))\n",
      "('OnlineSecurity_Yes', np.float64(10.737997751654383))\n",
      "('OnlineBackup_No', np.float64(5.714914540436502))\n",
      "('OnlineBackup_Yes', np.float64(10.718698107294452))\n",
      "('DeviceProtection_No', np.float64(5.705181856034644))\n",
      "('DeviceProtection_Yes', np.float64(10.728430791696312))\n",
      "('TechSupport_No', np.float64(5.698615031730719))\n",
      "('TechSupport_Yes', np.float64(10.73499761600024))\n",
      "('StreamingTV_No', np.float64(3.223688243607385))\n",
      "('StreamingTV_Yes', np.float64(13.20992440412357))\n",
      "('StreamingMovies_No', np.float64(3.243507909699065))\n",
      "('StreamingMovies_Yes', np.float64(13.190104738031895))\n",
      "('cluster', np.float64(0.014181585030420218))\n"
     ]
    }
   ],
   "source": [
    "for z in zip(names, coeffs):\n",
    "    print(z)"
   ]
  },
  {
   "cell_type": "code",
   "execution_count": null,
   "id": "805ad80d-f637-4823-94db-3e1c50418d73",
   "metadata": {},
   "outputs": [],
   "source": []
  }
 ],
 "metadata": {
  "kernelspec": {
   "display_name": "Python 3 (ipykernel)",
   "language": "python",
   "name": "python3"
  },
  "language_info": {
   "codemirror_mode": {
    "name": "ipython",
    "version": 3
   },
   "file_extension": ".py",
   "mimetype": "text/x-python",
   "name": "python",
   "nbconvert_exporter": "python",
   "pygments_lexer": "ipython3",
   "version": "3.11.6"
  }
 },
 "nbformat": 4,
 "nbformat_minor": 5
}
